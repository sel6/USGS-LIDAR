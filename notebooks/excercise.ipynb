{
 "cells": [
  {
   "cell_type": "code",
   "execution_count": 1,
   "id": "07987b71-d485-4772-9d17-9faf328c01ce",
   "metadata": {},
   "outputs": [],
   "source": [
    "import os\n",
    "import json\n",
    "import numpy as np\n",
    "import pdal\n",
    "import pandas as pd\n",
    "import geopandas as gpd\n",
    "import matplotlib.pyplot as plt\n",
    "from shapely.geometry import Polygon, Point, mapping"
   ]
  },
  {
   "cell_type": "code",
   "execution_count": 2,
   "id": "6966d8c4-bb09-434e-9f60-47783475eed8",
   "metadata": {},
   "outputs": [],
   "source": [
    "def read_json(json_path):\n",
    "    try:\n",
    "        with open(json_path) as js:\n",
    "            json_obj = json.load(js)\n",
    "        return json_obj\n",
    "\n",
    "    except FileNotFoundError:\n",
    "        print('File not found.')"
   ]
  },
  {
   "cell_type": "code",
   "execution_count": 4,
   "id": "907653a0-f573-42f2-a002-9eb3e94ba46f",
   "metadata": {},
   "outputs": [],
   "source": [
    "a = read_json(\"../pipeline.json\")"
   ]
  },
  {
   "cell_type": "code",
   "execution_count": 5,
   "id": "4ee57602-fac2-46c6-973c-1bdfa2777ce6",
   "metadata": {},
   "outputs": [
    {
     "data": {
      "text/plain": [
       "{'pipeline': [{'polygon': '',\n",
       "   'bounds': '',\n",
       "   'filename': '',\n",
       "   'type': 'readers.ept',\n",
       "   'tag': 'readdata'},\n",
       "  {'limits': 'Classification![7:7]',\n",
       "   'type': 'filters.range',\n",
       "   'tag': 'nonoise'},\n",
       "  {'in_srs': 'EPSG:3857',\n",
       "   'out_srs': 'EPSG:4326',\n",
       "   'tag': 'reprojectUTM',\n",
       "   'type': 'filters.reprojection'},\n",
       "  {'filename': '../data/iowa.csv',\n",
       "   'tag': 'writerslas',\n",
       "   'type': 'writers.text'}]}"
      ]
     },
     "execution_count": 5,
     "metadata": {},
     "output_type": "execute_result"
    }
   ],
   "source": [
    "a"
   ]
  },
  {
   "cell_type": "code",
   "execution_count": 6,
   "id": "0c16ebd7-95ba-40ae-97bb-c41d0ffec4e7",
   "metadata": {},
   "outputs": [],
   "source": [
    "pipe=pdal.Pipeline(json.dumps(a))"
   ]
  },
  {
   "cell_type": "code",
   "execution_count": 7,
   "id": "7a8d2270-2c57-4b23-a0eb-b4e656716c95",
   "metadata": {},
   "outputs": [],
   "source": [
    "MINX, MINY, MAXX, MAXY = [-93.759055, 41.925015, -93.766155, 41.935015]\n",
    "polygon = Polygon(((MINX, MINY), (MINX, MAXY), (MAXX, MAXY), (MAXX, MINY), (MINX, MINY)))"
   ]
  },
  {
   "cell_type": "code",
   "execution_count": 8,
   "id": "fd8eb06a-d010-49f0-afd8-52447ef05d56",
   "metadata": {},
   "outputs": [],
   "source": [
    "class UsgsLidar:\n",
    "    \n",
    "    def __init__(self, path = \"https://s3-us-west-2.amazonaws.com/usgs-lidar-public/\", pipeline_json_path: str=\"pipeline.json\") -> None:\n",
    "            \n",
    "    \n",
    "        self.path = path\n",
    "        self.input_epsg = 3857\n",
    "    \n",
    "        \n",
    "    def fetch_polygon_boundaries(self, polygon: Polygon):\n",
    "        polygon_df = gpd.GeoDataFrame([polygon], columns=['geometry'])\n",
    "\n",
    "        polygon_df.set_crs(epsg=4326, inplace=True)\n",
    "        polygon_df['geometry'] = polygon_df['geometry'].to_crs(epsg=3857)\n",
    "        minx, miny, maxx, maxy = polygon_df['geometry'][0].bounds\n",
    "\n",
    "        polygon_input = 'POLYGON(('\n",
    "        xcords, ycords = polygon_df['geometry'][0].exterior.coords.xy\n",
    "        for x, y in zip(list(xcords), list(ycords)):\n",
    "            polygon_input += f'{x} {y}, '\n",
    "        polygon_input = polygon_input[:-2]\n",
    "        polygon_input += '))'\n",
    "\n",
    "        return f\"({[minx, maxx]},{[miny,maxy]})\", polygon_input\n",
    "    \n",
    "    def read_csv(self, csv_path, missing_values=[\"n/a\", \"na\", \"undefined\"]):\n",
    "        try:\n",
    "            df = pd.read_csv(csv_path, na_values=missing_values)\n",
    "            return df\n",
    "\n",
    "        except FileNotFoundError:\n",
    "            print('File not found.')\n",
    "            \n",
    "    def fetch_pipeline (self, region: str, polygon: Polygon):\n",
    "        url = f\"{self.path}{region}/ept.json\"\n",
    "        boundary, poly = self.fetch_polygon_boundaries(polygon)\n",
    "        \n",
    "        a['pipeline'][0]['filename']= f\"{self.path}{region}/ept.json\"\n",
    "        a['pipeline'][0]['polygon'] = poly\n",
    "        a['pipeline'][0]['bounds'] = boundary\n",
    "        pipeline = pdal.Pipeline(json.dumps(a))\n",
    "        \n",
    "        return pipeline\n",
    "            \n"
   ]
  },
  {
   "cell_type": "code",
   "execution_count": 9,
   "id": "715e21b4-e769-41c4-8908-5f33b5136733",
   "metadata": {},
   "outputs": [
    {
     "name": "stdout",
     "output_type": "stream",
     "text": [
      "POLYGON((-10437210.259858532 5149753.664381643, -10437210.259858532 5151249.971344454, -10438000.628243161 5151249.971344454, -10438000.628243161 5149753.664381643, -10437210.259858532 5149753.664381643))\n"
     ]
    }
   ],
   "source": [
    "US = UsgsLidar()\n",
    "df = US.read_csv(\"../data/iowa.csv\")\n",
    "shape, poly = US.fetch_polygon_boundaries(polygon)\n",
    "print(poly)"
   ]
  },
  {
   "cell_type": "code",
   "execution_count": 10,
   "id": "edde170a-929d-4ff1-ba8d-e9143e0dfc82",
   "metadata": {},
   "outputs": [],
   "source": [
    "region = \"IA_FullState\"\n",
    "pipeline = US.fetch_pipeline(region, polygon)"
   ]
  },
  {
   "cell_type": "code",
   "execution_count": 11,
   "id": "29573de1-7bba-46b0-a8c3-92908222cc38",
   "metadata": {},
   "outputs": [
    {
     "data": {
      "text/plain": [
       "913974"
      ]
     },
     "execution_count": 11,
     "metadata": {},
     "output_type": "execute_result"
    }
   ],
   "source": [
    "pipeline.execute()"
   ]
  },
  {
   "cell_type": "code",
   "execution_count": 18,
   "id": "49bca5ad-c36c-4328-92db-94fccb1804f4",
   "metadata": {},
   "outputs": [],
   "source": [
    "def create_gpd_df(pipe, epsg):\n",
    "    try:\n",
    "        cloud = []\n",
    "        elevations =[]\n",
    "        geometry=[]\n",
    "        for row in pipe.arrays[0]:\n",
    "            lst = row.tolist()[-3:]\n",
    "            cloud.append(lst)\n",
    "            elevations.append(lst[2])\n",
    "            point = Point(lst[0], lst[1])\n",
    "            geometry.append(point)\n",
    "        gpd_df = gpd.GeoDataFrame(columns=[\"elevation\", \"geometry\"])\n",
    "        gpd_df['elevation'] = elevations\n",
    "        gpd_df['geometry'] = geometry\n",
    "        gpd_df = gpd_df.set_geometry(\"geometry\")\n",
    "        gpd_df.set_crs(epsg = epsg, inplace=True)\n",
    "        return gpd_df\n",
    "    except RuntimeError as e:\n",
    "        print(e)"
   ]
  },
  {
   "cell_type": "code",
   "execution_count": 19,
   "id": "181434f6-4a9d-4d0d-9ad8-4f3684693754",
   "metadata": {},
   "outputs": [
    {
     "data": {
      "text/html": [
       "<div>\n",
       "<style scoped>\n",
       "    .dataframe tbody tr th:only-of-type {\n",
       "        vertical-align: middle;\n",
       "    }\n",
       "\n",
       "    .dataframe tbody tr th {\n",
       "        vertical-align: top;\n",
       "    }\n",
       "\n",
       "    .dataframe thead th {\n",
       "        text-align: right;\n",
       "    }\n",
       "</style>\n",
       "<table border=\"1\" class=\"dataframe\">\n",
       "  <thead>\n",
       "    <tr style=\"text-align: right;\">\n",
       "      <th></th>\n",
       "      <th>elevation</th>\n",
       "      <th>geometry</th>\n",
       "    </tr>\n",
       "  </thead>\n",
       "  <tbody>\n",
       "    <tr>\n",
       "      <th>0</th>\n",
       "      <td>307.78</td>\n",
       "      <td>POINT (-93.75913 41.93289)</td>\n",
       "    </tr>\n",
       "    <tr>\n",
       "      <th>1</th>\n",
       "      <td>307.79</td>\n",
       "      <td>POINT (-93.75912 41.93289)</td>\n",
       "    </tr>\n",
       "    <tr>\n",
       "      <th>2</th>\n",
       "      <td>307.69</td>\n",
       "      <td>POINT (-93.75911 41.93289)</td>\n",
       "    </tr>\n",
       "    <tr>\n",
       "      <th>3</th>\n",
       "      <td>307.64</td>\n",
       "      <td>POINT (-93.75908 41.93289)</td>\n",
       "    </tr>\n",
       "    <tr>\n",
       "      <th>4</th>\n",
       "      <td>307.66</td>\n",
       "      <td>POINT (-93.75906 41.93289)</td>\n",
       "    </tr>\n",
       "    <tr>\n",
       "      <th>...</th>\n",
       "      <td>...</td>\n",
       "      <td>...</td>\n",
       "    </tr>\n",
       "    <tr>\n",
       "      <th>913969</th>\n",
       "      <td>309.80</td>\n",
       "      <td>POINT (-93.76211 41.93347)</td>\n",
       "    </tr>\n",
       "    <tr>\n",
       "      <th>913970</th>\n",
       "      <td>317.36</td>\n",
       "      <td>POINT (-93.76370 41.93348)</td>\n",
       "    </tr>\n",
       "    <tr>\n",
       "      <th>913971</th>\n",
       "      <td>308.19</td>\n",
       "      <td>POINT (-93.76052 41.93466)</td>\n",
       "    </tr>\n",
       "    <tr>\n",
       "      <th>913972</th>\n",
       "      <td>309.04</td>\n",
       "      <td>POINT (-93.76211 41.93465)</td>\n",
       "    </tr>\n",
       "    <tr>\n",
       "      <th>913973</th>\n",
       "      <td>314.48</td>\n",
       "      <td>POINT (-93.76371 41.93466)</td>\n",
       "    </tr>\n",
       "  </tbody>\n",
       "</table>\n",
       "<p>913974 rows × 2 columns</p>\n",
       "</div>"
      ],
      "text/plain": [
       "        elevation                    geometry\n",
       "0          307.78  POINT (-93.75913 41.93289)\n",
       "1          307.79  POINT (-93.75912 41.93289)\n",
       "2          307.69  POINT (-93.75911 41.93289)\n",
       "3          307.64  POINT (-93.75908 41.93289)\n",
       "4          307.66  POINT (-93.75906 41.93289)\n",
       "...           ...                         ...\n",
       "913969     309.80  POINT (-93.76211 41.93347)\n",
       "913970     317.36  POINT (-93.76370 41.93348)\n",
       "913971     308.19  POINT (-93.76052 41.93466)\n",
       "913972     309.04  POINT (-93.76211 41.93465)\n",
       "913973     314.48  POINT (-93.76371 41.93466)\n",
       "\n",
       "[913974 rows x 2 columns]"
      ]
     },
     "execution_count": 19,
     "metadata": {},
     "output_type": "execute_result"
    }
   ],
   "source": [
    "gpd_df = create_gpd_df(pipeline, 4326)\n",
    "gpd_df"
   ]
  },
  {
   "cell_type": "code",
   "execution_count": null,
   "id": "003e23d1-2816-4a3c-b260-5f8e5a7a682f",
   "metadata": {},
   "outputs": [],
   "source": []
  }
 ],
 "metadata": {
  "kernelspec": {
   "display_name": "Python 3 (ipykernel)",
   "language": "python",
   "name": "python3"
  },
  "language_info": {
   "codemirror_mode": {
    "name": "ipython",
    "version": 3
   },
   "file_extension": ".py",
   "mimetype": "text/x-python",
   "name": "python",
   "nbconvert_exporter": "python",
   "pygments_lexer": "ipython3",
   "version": "3.10.5"
  }
 },
 "nbformat": 4,
 "nbformat_minor": 5
}
