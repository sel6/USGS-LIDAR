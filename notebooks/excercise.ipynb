{
 "cells": [
  {
   "cell_type": "code",
   "execution_count": 1,
   "id": "07987b71-d485-4772-9d17-9faf328c01ce",
   "metadata": {},
   "outputs": [],
   "source": [
    "import os\n",
    "import json\n",
    "import numpy as np\n",
    "import pdal\n",
    "import pandas as pd\n",
    "import geopandas as gpd\n",
    "import matplotlib.pyplot as plt\n",
    "from shapely.geometry import Polygon, Point, mapping"
   ]
  },
  {
   "cell_type": "code",
   "execution_count": 2,
   "id": "6966d8c4-bb09-434e-9f60-47783475eed8",
   "metadata": {},
   "outputs": [],
   "source": [
    "def read_json(json_path):\n",
    "    try:\n",
    "        with open(json_path) as js:\n",
    "            json_obj = json.load(js)\n",
    "        return json_obj\n",
    "\n",
    "    except FileNotFoundError:\n",
    "        print('File not found.')"
   ]
  },
  {
   "cell_type": "code",
   "execution_count": 3,
   "id": "907653a0-f573-42f2-a002-9eb3e94ba46f",
   "metadata": {},
   "outputs": [],
   "source": [
    "a = read_json(\"../pipeline.json\")"
   ]
  },
  {
   "cell_type": "code",
   "execution_count": 4,
   "id": "4ee57602-fac2-46c6-973c-1bdfa2777ce6",
   "metadata": {},
   "outputs": [
    {
     "data": {
      "text/plain": [
       "{'pipeline': [{'polygon': '',\n",
       "   'bounds': '',\n",
       "   'filename': '',\n",
       "   'type': 'readers.ept',\n",
       "   'tag': 'readdata'},\n",
       "  {'limits': 'Classification![7:7]',\n",
       "   'type': 'filters.range',\n",
       "   'tag': 'nonoise'},\n",
       "  {'in_srs': 'EPSG:3857',\n",
       "   'out_srs': 'EPSG:4326',\n",
       "   'tag': 'reprojectUTM',\n",
       "   'type': 'filters.reprojection'},\n",
       "  {'filename': '../data/iowa.csv',\n",
       "   'tag': 'writerslas',\n",
       "   'type': 'writers.text'}]}"
      ]
     },
     "execution_count": 4,
     "metadata": {},
     "output_type": "execute_result"
    }
   ],
   "source": [
    "a"
   ]
  },
  {
   "cell_type": "code",
   "execution_count": 5,
   "id": "0c16ebd7-95ba-40ae-97bb-c41d0ffec4e7",
   "metadata": {},
   "outputs": [],
   "source": [
    "pipe=pdal.Pipeline(json.dumps(a))"
   ]
  },
  {
   "cell_type": "code",
   "execution_count": 6,
   "id": "7a8d2270-2c57-4b23-a0eb-b4e656716c95",
   "metadata": {},
   "outputs": [],
   "source": [
    "MINX, MINY, MAXX, MAXY = [-93.759055, 41.925015, -93.766155, 41.935015]\n",
    "polygon = Polygon(((MINX, MINY), (MINX, MAXY), (MAXX, MAXY), (MAXX, MINY), (MINX, MINY)))"
   ]
  },
  {
   "cell_type": "code",
   "execution_count": 23,
   "id": "fd8eb06a-d010-49f0-afd8-52447ef05d56",
   "metadata": {},
   "outputs": [],
   "source": [
    "class UsgsLidar:\n",
    "    \n",
    "    def __init__(self, path = \"https://s3-us-west-2.amazonaws.com/usgs-lidar-public/\", pipeline_json_path: str=\"pipeline.json\") -> None:\n",
    "            \n",
    "    \n",
    "        self.path = path\n",
    "        self.input_epsg = 3857\n",
    "    \n",
    "        \n",
    "    def fetch_polygon_boundaries(self, polygon: Polygon):\n",
    "        polygon_df = gpd.GeoDataFrame([polygon], columns=['geometry'])\n",
    "\n",
    "        polygon_df.set_crs(epsg=4326, inplace=True)\n",
    "        polygon_df['geometry'] = polygon_df['geometry'].to_crs(epsg=3857)\n",
    "        minx, miny, maxx, maxy = polygon_df['geometry'][0].bounds\n",
    "\n",
    "        polygon_input = 'POLYGON(('\n",
    "        xcords, ycords = polygon_df['geometry'][0].exterior.coords.xy\n",
    "        for x, y in zip(list(xcords), list(ycords)):\n",
    "            polygon_input += f'{x} {y}, '\n",
    "        polygon_input = polygon_input[:-2]\n",
    "        polygon_input += '))'\n",
    "\n",
    "        return f\"({[minx, maxx]},{[miny,maxy]})\", polygon_input\n",
    "    \n",
    "    def read_csv(self, csv_path, missing_values=[\"n/a\", \"na\", \"undefined\"]):\n",
    "        try:\n",
    "            df = pd.read_csv(csv_path, na_values=missing_values)\n",
    "            return df\n",
    "\n",
    "        except FileNotFoundError:\n",
    "            print('File not found.')\n",
    "            \n",
    "    def fetch_pipeline (self, region: str, polygon: Polygon):\n",
    "        url = f\"{self.path}{region}/ept.json\"\n",
    "        boundary, poly = self.fetch_polygon_boundaries(polygon)\n",
    "        \n",
    "        a['pipeline'][0]['filename']= f\"{self.path}{region}/ept.json\"\n",
    "        a['pipeline'][0]['polygon'] = poly\n",
    "        a['pipeline'][0]['bounds'] = boundary\n",
    "        pipeline = pdal.Pipeline(json.dumps(a))\n",
    "\n",
    "        return pipeline\n",
    "            \n"
   ]
  },
  {
   "cell_type": "code",
   "execution_count": 24,
   "id": "715e21b4-e769-41c4-8908-5f33b5136733",
   "metadata": {},
   "outputs": [
    {
     "name": "stdout",
     "output_type": "stream",
     "text": [
      "POLYGON((-10437210.259858532 5149753.664381643, -10437210.259858532 5151249.971344454, -10438000.628243161 5151249.971344454, -10438000.628243161 5149753.664381643, -10437210.259858532 5149753.664381643))\n"
     ]
    }
   ],
   "source": [
    "US = UsgsLidar()\n",
    "df = US.read_csv(\"../data/iowa.csv\")\n",
    "shape, poly = US.fetch_polygon_boundaries(polygon)\n",
    "print(poly)"
   ]
  },
  {
   "cell_type": "code",
   "execution_count": 25,
   "id": "edde170a-929d-4ff1-ba8d-e9143e0dfc82",
   "metadata": {},
   "outputs": [],
   "source": [
    "region = \"IA_FullState\"\n",
    "pipeline = US.fetch_pipeline(region, polygon)\n"
   ]
  },
  {
   "cell_type": "code",
   "execution_count": 26,
   "id": "29573de1-7bba-46b0-a8c3-92908222cc38",
   "metadata": {},
   "outputs": [
    {
     "data": {
      "text/plain": [
       "913974"
      ]
     },
     "execution_count": 26,
     "metadata": {},
     "output_type": "execute_result"
    }
   ],
   "source": [
    "pipeline.execute()"
   ]
  },
  {
   "cell_type": "code",
   "execution_count": null,
   "id": "49bca5ad-c36c-4328-92db-94fccb1804f4",
   "metadata": {},
   "outputs": [],
   "source": []
  }
 ],
 "metadata": {
  "kernelspec": {
   "display_name": "Python 3 (ipykernel)",
   "language": "python",
   "name": "python3"
  },
  "language_info": {
   "codemirror_mode": {
    "name": "ipython",
    "version": 3
   },
   "file_extension": ".py",
   "mimetype": "text/x-python",
   "name": "python",
   "nbconvert_exporter": "python",
   "pygments_lexer": "ipython3",
   "version": "3.10.5"
  }
 },
 "nbformat": 4,
 "nbformat_minor": 5
}
