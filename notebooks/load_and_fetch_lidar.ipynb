{
 "cells": [
  {
   "cell_type": "markdown",
   "id": "8469b799-901c-4d1f-8a03-8e3fb24c64f2",
   "metadata": {},
   "source": [
    "# Data Fetching and Loading"
   ]
  },
  {
   "cell_type": "code",
   "execution_count": 8,
   "id": "52ef83cd-f53a-49e6-a4ce-f57b57bfaec1",
   "metadata": {},
   "outputs": [],
   "source": [
    "import sys\n",
    "import os\n",
    "from shapely.geometry import Polygon\n",
    "sys.path.append(os.path.abspath(os.path.join('../scripts')))"
   ]
  },
  {
   "cell_type": "code",
   "execution_count": 4,
   "id": "955050d8-ffdb-4859-8535-6fadb256396d",
   "metadata": {},
   "outputs": [],
   "source": [
    "from usgs_lidar import UsgsLidar"
   ]
  },
  {
   "cell_type": "code",
   "execution_count": 6,
   "id": "2e252b26-5dcb-4b11-aadb-a882fb7c957e",
   "metadata": {},
   "outputs": [],
   "source": [
    "US = UsgsLidar()"
   ]
  },
  {
   "cell_type": "markdown",
   "id": "9b927b34-b300-4deb-a2ea-e4e2826bae35",
   "metadata": {},
   "source": [
    "## Input: Polygon"
   ]
  },
  {
   "cell_type": "code",
   "execution_count": 9,
   "id": "a6350219-2647-4559-82ee-d3a4a04739a8",
   "metadata": {},
   "outputs": [],
   "source": [
    "MINX, MINY, MAXX, MAXY = [-93.756155, 41.918015, -93.747334, 41.921429]\n",
    "polygon = Polygon(((MINX, MINY), (MINX, MAXY), (MAXX, MAXY), (MAXX, MINY), (MINX, MINY)))"
   ]
  },
  {
   "cell_type": "code",
   "execution_count": 10,
   "id": "c8c33aa2-da05-48b8-b3d9-15986a3e0e47",
   "metadata": {},
   "outputs": [
    {
     "name": "stdout",
     "output_type": "stream",
     "text": [
      "POLYGON((-10436887.43333523 5148706.389047224, -10436887.43333523 5149217.145836504, -10435905.484106943 5149217.145836504, -10435905.484106943 5148706.389047224, -10436887.43333523 5148706.389047224))\n"
     ]
    }
   ],
   "source": [
    "shape, poly = US.fetch_polygon_boundaries(polygon)\n",
    "print(poly)"
   ]
  },
  {
   "cell_type": "markdown",
   "id": "f19473eb-f927-40af-83d5-5fb110ebb3bf",
   "metadata": {},
   "source": [
    "## Output: Fetch data by year in form of python dictionary including geometry and elvation"
   ]
  },
  {
   "cell_type": "code",
   "execution_count": 11,
   "id": "9929621b-a7a8-4e4d-96d7-c3b99f9cd4d2",
   "metadata": {},
   "outputs": [
    {
     "data": {
      "text/plain": [
       "{'Year: not_specified':         elevation                    geometry\n",
       " 0          317.59  POINT (-93.74864 41.92142)\n",
       " 1          317.42  POINT (-93.74863 41.92142)\n",
       " 2          317.27  POINT (-93.74862 41.92142)\n",
       " 3          317.28  POINT (-93.74865 41.92142)\n",
       " 4          317.25  POINT (-93.74867 41.92142)\n",
       " ...           ...                         ...\n",
       " 401572     316.86  POINT (-93.74820 41.91900)\n",
       " 401573     318.16  POINT (-93.74822 41.91960)\n",
       " 401574     317.53  POINT (-93.74821 41.92019)\n",
       " 401575     317.40  POINT (-93.74744 41.92077)\n",
       " 401576     317.91  POINT (-93.74744 41.92137)\n",
       " \n",
       " [401577 rows x 2 columns]}"
      ]
     },
     "execution_count": 11,
     "metadata": {},
     "output_type": "execute_result"
    }
   ],
   "source": [
    "#default is IOA state\n",
    "US.fetch_data(polygon)"
   ]
  },
  {
   "cell_type": "code",
   "execution_count": 12,
   "id": "6e580844-bb66-4851-bd1e-24e4b8f8e780",
   "metadata": {},
   "outputs": [
    {
     "data": {
      "text/plain": [
       "['NE_Rainwater-2_2009',\n",
       " 'SD_James_River_NRCS_J_2010',\n",
       " 'SD_McCook_County_2012',\n",
       " 'SD_Spink_County_2012',\n",
       " 'USGS_LPC_NE_Hat_White_Cherry_UTM14_2016_LAS_2019',\n",
       " 'USGS_LPC_FL_Lower_Choctawhatchee_2017_LAS_2019',\n",
       " 'USGS_LPC_NE_NRCS_OrthoLidar_B2_2017_LAS_2019',\n",
       " 'IA_FullState']"
      ]
     },
     "execution_count": 12,
     "metadata": {},
     "output_type": "execute_result"
    }
   ],
   "source": [
    "US.fetch_regions(polygon)"
   ]
  },
  {
   "cell_type": "markdown",
   "id": "69d18690-473f-4f43-9bfd-4992aeb5a171",
   "metadata": {},
   "source": [
    "* Let's take another location within the polygon"
   ]
  },
  {
   "cell_type": "code",
   "execution_count": 13,
   "id": "70c2ba9f-3a68-47c1-9a6c-94ca298ead97",
   "metadata": {},
   "outputs": [
    {
     "data": {
      "text/plain": [
       "{'2009.0':         elevation                    geometry\n",
       " 0          318.49  POINT (-93.74734 41.92142)\n",
       " 1          318.37  POINT (-93.74735 41.92142)\n",
       " 2          318.41  POINT (-93.74736 41.92142)\n",
       " 3          318.15  POINT (-93.74748 41.92143)\n",
       " 4          318.29  POINT (-93.74747 41.92142)\n",
       " ...           ...                         ...\n",
       " 401572     317.17  POINT (-93.74793 41.92114)\n",
       " 401573     317.39  POINT (-93.74812 41.92115)\n",
       " 401574     317.32  POINT (-93.74832 41.92115)\n",
       " 401575     317.59  POINT (-93.74812 41.92130)\n",
       " 401576     317.40  POINT (-93.74831 41.92130)\n",
       " \n",
       " [401577 rows x 2 columns]}"
      ]
     },
     "execution_count": 13,
     "metadata": {},
     "output_type": "execute_result"
    }
   ],
   "source": [
    "US.fetch_data(polygon, region=\"NE_Rainwater-2_2009\")"
   ]
  },
  {
   "cell_type": "code",
   "execution_count": null,
   "id": "c93bb010-06e3-415e-b6ec-138e4b2cdddb",
   "metadata": {},
   "outputs": [],
   "source": []
  }
 ],
 "metadata": {
  "kernelspec": {
   "display_name": "Python 3 (ipykernel)",
   "language": "python",
   "name": "python3"
  },
  "language_info": {
   "codemirror_mode": {
    "name": "ipython",
    "version": 3
   },
   "file_extension": ".py",
   "mimetype": "text/x-python",
   "name": "python",
   "nbconvert_exporter": "python",
   "pygments_lexer": "ipython3",
   "version": "3.10.5"
  }
 },
 "nbformat": 4,
 "nbformat_minor": 5
}
